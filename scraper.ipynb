{
 "cells": [
  {
   "cell_type": "code",
   "execution_count": 1,
   "id": "4f7d314e-3180-472e-963c-1fcdfb625a4c",
   "metadata": {},
   "outputs": [],
   "source": [
    "import os\n",
    "import datetime\n",
    "import re\n",
    "import requests\n",
    "import json\n",
    "import urllib.request\n",
    "import glob\n",
    "from bs4 import BeautifulSoup"
   ]
  },
  {
   "cell_type": "code",
   "execution_count": 14,
   "id": "b298a6e1-fcaa-4799-b80f-9c1caa713b5a",
   "metadata": {},
   "outputs": [],
   "source": [
    "def scrape_json(url):\n",
    "    \n",
    "    #for dev, remove export files if present\n",
    "    if os.path.exists(\"./embedded_json.json\"):\n",
    "        os.remove(\"./embedded_json.json\")\n",
    "    if os.path.exists(\"./linked_json.json\"):\n",
    "        os.remove(\"./linked_json.json\")\n",
    "    \n",
    "    #fetch data from url\n",
    "    fp = urllib.request.urlopen(url)\n",
    "    raw_data = fp.read()\n",
    "    data = raw_data.decode(\"utf8\")\n",
    "    fp.close()\n",
    "\n",
    "    # convert data to bs4 html object\n",
    "    html = BeautifulSoup(data, 'html.parser')\n",
    "    \n",
    "    # search html for json-ld information\n",
    "    linked_json = html.head.find(\"link\", type=\"application/ld+json\")\n",
    "    embedded_json = html.body.find(\"script\", type=\"application/ld+json\")\n",
    "\n",
    "    # catch error if JSON data is invalid\n",
    "    try:\n",
    "        # if json file is linked in the header, download and save the linked file\n",
    "        if linked_json:\n",
    "            r = requests.get(linked_json[\"href\"])\n",
    "            file = \"./output/\" + url[-10:-5]    # need a convention\n",
    "            with open (file, \"wb\") as f:\n",
    "                f.write(r.content)\n",
    "            return(\"file written from linked json\")\n",
    "\n",
    "        # if json information is embedded in body, parse text, convert to json, and save file\n",
    "        elif embedded_json:\n",
    "            ojson = re.sub(r'\\n\\s+',\"\",embedded_json.text).replace(r'<script type=\"application/ld+json\">', \"\").replace(r'</script>',\"\")\n",
    "            load_json = json.loads(ojson[1:-1])\n",
    "\n",
    "            # add source and date metadata\n",
    "            load_json.append({\"source\": url, \"accessed\": str(datetime.datetime.now())})\n",
    "            # print(load_json)\n",
    "\n",
    "            # export json\n",
    "            json_out = json.dumps(load_json)\n",
    "            file = \"./output/\" + url[-10:-5]     # need a convention\n",
    "            with open(file, \"w\") as output:\n",
    "                output.write(json_out)\n",
    "            return(\"file written from embedded json\")\n",
    "\n",
    "        else:\n",
    "            return(\"no json-ld data found\")\n",
    "    except json.JSONDecodeError:\n",
    "        return f\"ERROR: {site}\\n{linked_json}\\n{embedded_json}\""
   ]
  },
  {
   "cell_type": "code",
   "execution_count": 15,
   "id": "e51eb580-94ce-41c6-9219-e3a163b15c04",
   "metadata": {},
   "outputs": [],
   "source": [
    "# Test against court sites\n",
    "\n",
    "# url = 'http://localhost:8000/very-simple-test.html'\n",
    "\n",
    "linked_json_sites = glob.glob(\"sites/linked/*\")\n",
    "embedded_json_sites = glob.glob(\"sites/embedded/*\")\n",
    "no_json_sites = glob.glob(\"sites/no-data/*\")\n",
    "\n",
    "all_sites = [linked_json_sites,embedded_json_sites,no_json_sites]\n",
    "\n",
    "for sites in all_sites:\n",
    "    for site in sites:\n",
    "        scrape_json(\"http://localhost:8000/\" + site)\n",
    "\n",
    "# errors in embedded sites:\n",
    "# il-adams, nm-bernalillo, mi-flint\n",
    "# 2 WP sites, 1 Angular\n",
    "# 2 working sites neither"
   ]
  },
  {
   "cell_type": "code",
   "execution_count": null,
   "id": "83ef6f83-c89c-4d9a-aafe-3f46f6a86421",
   "metadata": {},
   "outputs": [],
   "source": []
  }
 ],
 "metadata": {
  "kernelspec": {
   "display_name": "Python 3 (ipykernel)",
   "language": "python",
   "name": "python3"
  },
  "language_info": {
   "codemirror_mode": {
    "name": "ipython",
    "version": 3
   },
   "file_extension": ".py",
   "mimetype": "text/x-python",
   "name": "python",
   "nbconvert_exporter": "python",
   "pygments_lexer": "ipython3",
   "version": "3.10.2"
  },
  "vscode": {
   "interpreter": {
    "hash": "7812ea015bdcee6f23a998adcdd2ef97c151c0c241b7b7070987d9313e41299d"
   }
  },
  "widgets": {
   "application/vnd.jupyter.widget-state+json": {
    "state": {},
    "version_major": 2,
    "version_minor": 0
   }
  }
 },
 "nbformat": 4,
 "nbformat_minor": 5
}
