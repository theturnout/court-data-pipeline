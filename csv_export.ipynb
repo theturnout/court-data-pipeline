{
 "cells": [
  {
   "cell_type": "code",
   "execution_count": 13,
   "id": "39c99354-d587-4d76-808a-b610c3bb0ead",
   "metadata": {},
   "outputs": [],
   "source": [
    "import sqlite3\n",
    "import csv\n",
    "from rdflib import plugin\n",
    "from rdflib.graph import Graph\n",
    "from rdflib.store import Store\n",
    "from rdflib_sqlalchemy import registerplugins"
   ]
  },
  {
   "cell_type": "code",
   "execution_count": 23,
   "id": "16274e32-3d0d-4711-b9ad-0524fb4d5946",
   "metadata": {},
   "outputs": [
    {
     "data": {
      "text/plain": [
       "str"
      ]
     },
     "execution_count": 23,
     "metadata": {},
     "output_type": "execute_result"
    }
   ],
   "source": [
    "type(\"string\")"
   ]
  },
  {
   "cell_type": "code",
   "execution_count": 14,
   "id": "8c2fe6c9-c149-4170-9a4e-d217fe2646f3",
   "metadata": {},
   "outputs": [],
   "source": [
    "db = './data/db/court-data.db'\n",
    "conn = sqlite3.connect(db)"
   ]
  },
  {
   "cell_type": "code",
   "execution_count": 17,
   "id": "1f42f6d3-6a17-4929-9622-021c6e9369bd",
   "metadata": {},
   "outputs": [
    {
     "name": "stderr",
     "output_type": "stream",
     "text": [
      "create_all() - table kb_d18e8dc617_asserted_statements is not known\n"
     ]
    },
    {
     "ename": "RuntimeError",
     "evalue": "open() - create flag was set to False, but store was not created previously.",
     "output_type": "error",
     "traceback": [
      "\u001b[0;31m---------------------------------------------------------------------------\u001b[0m",
      "\u001b[0;31mRuntimeError\u001b[0m                              Traceback (most recent call last)",
      "Cell \u001b[0;32mIn [17], line 7\u001b[0m\n\u001b[1;32m      5\u001b[0m store \u001b[38;5;241m=\u001b[39m plugin\u001b[38;5;241m.\u001b[39mget(\u001b[38;5;124m\"\u001b[39m\u001b[38;5;124mSQLAlchemy\u001b[39m\u001b[38;5;124m\"\u001b[39m, Store)(identifier\u001b[38;5;241m=\u001b[39m\u001b[38;5;124m\"\u001b[39m\u001b[38;5;124mcourt_data_store\u001b[39m\u001b[38;5;124m\"\u001b[39m)\n\u001b[1;32m      6\u001b[0m graph \u001b[38;5;241m=\u001b[39m Graph(store, identifier\u001b[38;5;241m=\u001b[39m\u001b[38;5;124m\"\u001b[39m\u001b[38;5;124mcd_graph\u001b[39m\u001b[38;5;124m\"\u001b[39m)\n\u001b[0;32m----> 7\u001b[0m \u001b[43mgraph\u001b[49m\u001b[38;5;241;43m.\u001b[39;49m\u001b[43mopen\u001b[49m\u001b[43m(\u001b[49m\u001b[43mSQLALCHEMY_URL\u001b[49m\u001b[43m,\u001b[49m\u001b[43m \u001b[49m\u001b[43mcreate\u001b[49m\u001b[38;5;241;43m=\u001b[39;49m\u001b[38;5;28;43;01mFalse\u001b[39;49;00m\u001b[43m)\u001b[49m\n\u001b[1;32m      9\u001b[0m result \u001b[38;5;241m=\u001b[39m graph\u001b[38;5;241m.\u001b[39mquery(\u001b[38;5;124m\"\u001b[39m\u001b[38;5;124mselect * where \u001b[39m\u001b[38;5;124m{\u001b[39m\u001b[38;5;124m?s ?p ?o}\u001b[39m\u001b[38;5;124m\"\u001b[39m)\n\u001b[1;32m     11\u001b[0m \u001b[38;5;28;01mfor\u001b[39;00m subject, predicate, object_ \u001b[38;5;129;01min\u001b[39;00m result:\n",
      "File \u001b[0;32m~/.local/share/virtualenvs/court-data-pipeline-DL0ZJ-Cx/lib/python3.10/site-packages/rdflib/graph.py:441\u001b[0m, in \u001b[0;36mGraph.open\u001b[0;34m(self, configuration, create)\u001b[0m\n\u001b[1;32m    435\u001b[0m \u001b[38;5;28;01mdef\u001b[39;00m \u001b[38;5;21mopen\u001b[39m(\u001b[38;5;28mself\u001b[39m, configuration, create\u001b[38;5;241m=\u001b[39m\u001b[38;5;28;01mFalse\u001b[39;00m):\n\u001b[1;32m    436\u001b[0m     \u001b[38;5;124;03m\"\"\"Open the graph store\u001b[39;00m\n\u001b[1;32m    437\u001b[0m \n\u001b[1;32m    438\u001b[0m \u001b[38;5;124;03m    Might be necessary for stores that require opening a connection to a\u001b[39;00m\n\u001b[1;32m    439\u001b[0m \u001b[38;5;124;03m    database or acquiring some resource.\u001b[39;00m\n\u001b[1;32m    440\u001b[0m \u001b[38;5;124;03m    \"\"\"\u001b[39;00m\n\u001b[0;32m--> 441\u001b[0m     \u001b[38;5;28;01mreturn\u001b[39;00m \u001b[38;5;28;43mself\u001b[39;49m\u001b[38;5;241;43m.\u001b[39;49m\u001b[43m__store\u001b[49m\u001b[38;5;241;43m.\u001b[39;49m\u001b[43mopen\u001b[49m\u001b[43m(\u001b[49m\u001b[43mconfiguration\u001b[49m\u001b[43m,\u001b[49m\u001b[43m \u001b[49m\u001b[43mcreate\u001b[49m\u001b[43m)\u001b[49m\n",
      "File \u001b[0;32m~/.local/share/virtualenvs/court-data-pipeline-DL0ZJ-Cx/lib/python3.10/site-packages/rdflib_sqlalchemy/store.py:289\u001b[0m, in \u001b[0;36mSQLAlchemy.open\u001b[0;34m(self, configuration, create)\u001b[0m\n\u001b[1;32m    286\u001b[0m         ret_value \u001b[38;5;241m=\u001b[39m \u001b[38;5;28mself\u001b[39m\u001b[38;5;241m.\u001b[39m_verify_store_exists()\n\u001b[1;32m    288\u001b[0m \u001b[38;5;28;01mif\u001b[39;00m ret_value \u001b[38;5;241m!=\u001b[39m VALID_STORE \u001b[38;5;129;01mand\u001b[39;00m \u001b[38;5;129;01mnot\u001b[39;00m create:\n\u001b[0;32m--> 289\u001b[0m     \u001b[38;5;28;01mraise\u001b[39;00m \u001b[38;5;167;01mRuntimeError\u001b[39;00m(\u001b[38;5;124m\"\u001b[39m\u001b[38;5;124mopen() - create flag was set to False, but store was not created previously.\u001b[39m\u001b[38;5;124m\"\u001b[39m)\n\u001b[1;32m    291\u001b[0m \u001b[38;5;28;01mreturn\u001b[39;00m ret_value\n",
      "\u001b[0;31mRuntimeError\u001b[0m: open() - create flag was set to False, but store was not created previously."
     ]
    }
   ],
   "source": [
    "registerplugins()\n",
    "\n",
    "SQLALCHEMY_URL =f\"sqlite:///data/db/court-data.db\"\n",
    "\n",
    "store = plugin.get(\"SQLAlchemy\", Store)(identifier=\"court_data_store\")\n",
    "graph = Graph(store, identifier=\"cd_graph\")\n",
    "graph.open(SQLALCHEMY_URL, create=False)\n",
    "\n",
    "result = graph.query(\"select * where {?s ?p ?o}\")\n",
    "\n",
    "for subject, predicate, object_ in result:\n",
    "    print(subject, predicate, object_)\n",
    "\n",
    "graph.close()"
   ]
  },
  {
   "cell_type": "code",
   "execution_count": null,
   "id": "701d73cf-edc8-4df0-8526-db664c5fd674",
   "metadata": {},
   "outputs": [],
   "source": [
    "result"
   ]
  }
 ],
 "metadata": {
  "kernelspec": {
   "display_name": "Python 3.9.2 64-bit",
   "language": "python",
   "name": "python3"
  },
  "language_info": {
   "codemirror_mode": {
    "name": "ipython",
    "version": 3
   },
   "file_extension": ".py",
   "mimetype": "text/x-python",
   "name": "python",
   "nbconvert_exporter": "python",
   "pygments_lexer": "ipython3",
   "version": "3.9.2"
  },
  "vscode": {
   "interpreter": {
    "hash": "7812ea015bdcee6f23a998adcdd2ef97c151c0c241b7b7070987d9313e41299d"
   }
  }
 },
 "nbformat": 4,
 "nbformat_minor": 5
}
